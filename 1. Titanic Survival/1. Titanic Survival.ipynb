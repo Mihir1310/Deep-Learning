{
 "cells": [
  {
   "cell_type": "code",
   "execution_count": 1,
   "id": "971b079c",
   "metadata": {
    "_cell_guid": "b1076dfc-b9ad-4769-8c92-a6c4dae69d19",
    "_uuid": "8f2839f25d086af736a60e9eeb907d3b93b6e0e5",
    "execution": {
     "iopub.execute_input": "2022-02-10T05:27:43.096387Z",
     "iopub.status.busy": "2022-02-10T05:27:43.094514Z",
     "iopub.status.idle": "2022-02-10T05:27:44.525698Z",
     "shell.execute_reply": "2022-02-10T05:27:44.526208Z",
     "shell.execute_reply.started": "2022-02-10T05:27:05.596695Z"
    },
    "papermill": {
     "duration": 1.454547,
     "end_time": "2022-02-10T05:27:44.526523",
     "exception": false,
     "start_time": "2022-02-10T05:27:43.071976",
     "status": "completed"
    },
    "tags": []
   },
   "outputs": [
    {
     "name": "stdout",
     "output_type": "stream",
     "text": [
      "/kaggle/input/titanic/train.csv\n",
      "/kaggle/input/titanic/test.csv\n",
      "/kaggle/input/titanic/gender_submission.csv\n"
     ]
    }
   ],
   "source": [
    "# This Python 3 environment comes with many helpful analytics libraries installed\n",
    "# It is defined by the kaggle/python Docker image: https://github.com/kaggle/docker-python\n",
    "# For example, here's several helpful packages to load\n",
    "\n",
    "import numpy as np # linear algebra\n",
    "import pandas as pd # data processing, CSV file I/O (e.g. pd.read_csv)\n",
    "from sklearn.preprocessing import StandardScaler, LabelEncoder\n",
    "from sklearn.linear_model import LogisticRegression\n",
    "from sklearn.model_selection import train_test_split, GridSearchCV\n",
    "from sklearn.naive_bayes import GaussianNB\n",
    "from sklearn import svm\n",
    "from sklearn import tree\n",
    "from sklearn.tree import DecisionTreeClassifier\n",
    "from sklearn.ensemble import RandomForestClassifier\n",
    "from sklearn import metrics\n",
    "\n",
    "\n",
    "# Input data files are available in the read-only \"../input/\" directory\n",
    "# For example, running this (by clicking run or pressing Shift+Enter) will list all files under the input directory\n",
    "\n",
    "import os\n",
    "for dirname, _, filenames in os.walk('/kaggle/input'):\n",
    "    for filename in filenames:\n",
    "        print(os.path.join(dirname, filename))\n",
    "\n",
    "# You can write up to 20GB to the current directory (/kaggle/working/) that gets preserved as output when you create a version using \"Save & Run All\" \n",
    "# You can also write temporary files to /kaggle/temp/, but they won't be saved outside of the current session"
   ]
  },
  {
   "cell_type": "code",
   "execution_count": 2,
   "id": "57b77413",
   "metadata": {
    "execution": {
     "iopub.execute_input": "2022-02-10T05:27:44.564707Z",
     "iopub.status.busy": "2022-02-10T05:27:44.563726Z",
     "iopub.status.idle": "2022-02-10T05:27:44.608581Z",
     "shell.execute_reply": "2022-02-10T05:27:44.609100Z",
     "shell.execute_reply.started": "2022-02-10T05:27:05.608161Z"
    },
    "papermill": {
     "duration": 0.065439,
     "end_time": "2022-02-10T05:27:44.609292",
     "exception": false,
     "start_time": "2022-02-10T05:27:44.543853",
     "status": "completed"
    },
    "tags": []
   },
   "outputs": [
    {
     "name": "stdout",
     "output_type": "stream",
     "text": [
      "     PassengerId  Pclass                                          Name  \\\n",
      "0            892       3                              Kelly, Mr. James   \n",
      "1            893       3              Wilkes, Mrs. James (Ellen Needs)   \n",
      "2            894       2                     Myles, Mr. Thomas Francis   \n",
      "3            895       3                              Wirz, Mr. Albert   \n",
      "4            896       3  Hirvonen, Mrs. Alexander (Helga E Lindqvist)   \n",
      "..           ...     ...                                           ...   \n",
      "413         1305       3                            Spector, Mr. Woolf   \n",
      "414         1306       1                  Oliva y Ocana, Dona. Fermina   \n",
      "415         1307       3                  Saether, Mr. Simon Sivertsen   \n",
      "416         1308       3                           Ware, Mr. Frederick   \n",
      "417         1309       3                      Peter, Master. Michael J   \n",
      "\n",
      "        Sex   Age  SibSp  Parch              Ticket      Fare Cabin Embarked  \n",
      "0      male  34.5      0      0              330911    7.8292   NaN        Q  \n",
      "1    female  47.0      1      0              363272    7.0000   NaN        S  \n",
      "2      male  62.0      0      0              240276    9.6875   NaN        Q  \n",
      "3      male  27.0      0      0              315154    8.6625   NaN        S  \n",
      "4    female  22.0      1      1             3101298   12.2875   NaN        S  \n",
      "..      ...   ...    ...    ...                 ...       ...   ...      ...  \n",
      "413    male   NaN      0      0           A.5. 3236    8.0500   NaN        S  \n",
      "414  female  39.0      0      0            PC 17758  108.9000  C105        C  \n",
      "415    male  38.5      0      0  SOTON/O.Q. 3101262    7.2500   NaN        S  \n",
      "416    male   NaN      0      0              359309    8.0500   NaN        S  \n",
      "417    male   NaN      1      1                2668   22.3583   NaN        C  \n",
      "\n",
      "[418 rows x 11 columns]\n"
     ]
    }
   ],
   "source": [
    "train = pd.read_csv(\"/kaggle/input/titanic/train.csv\")\n",
    "test = pd.read_csv(\"/kaggle/input/titanic/test.csv\")\n",
    "print(test)"
   ]
  },
  {
   "cell_type": "code",
   "execution_count": 3,
   "id": "3724e5bb",
   "metadata": {
    "execution": {
     "iopub.execute_input": "2022-02-10T05:27:44.652878Z",
     "iopub.status.busy": "2022-02-10T05:27:44.652160Z",
     "iopub.status.idle": "2022-02-10T05:27:44.666867Z",
     "shell.execute_reply": "2022-02-10T05:27:44.667652Z",
     "shell.execute_reply.started": "2022-02-10T05:27:05.635868Z"
    },
    "papermill": {
     "duration": 0.041666,
     "end_time": "2022-02-10T05:27:44.668059",
     "exception": false,
     "start_time": "2022-02-10T05:27:44.626393",
     "status": "completed"
    },
    "tags": []
   },
   "outputs": [
    {
     "name": "stdout",
     "output_type": "stream",
     "text": [
      "     PassengerId  Pclass     Sex   Age  SibSp  Parch     Fare Embarked\n",
      "0              1       3    male  22.0      1      0   7.2500        S\n",
      "1              2       1  female  38.0      1      0  71.2833        C\n",
      "2              3       3  female  26.0      0      0   7.9250        S\n",
      "3              4       1  female  35.0      1      0  53.1000        S\n",
      "4              5       3    male  35.0      0      0   8.0500        S\n",
      "..           ...     ...     ...   ...    ...    ...      ...      ...\n",
      "886          887       2    male  27.0      0      0  13.0000        S\n",
      "887          888       1  female  19.0      0      0  30.0000        S\n",
      "888          889       3  female   NaN      1      2  23.4500        S\n",
      "889          890       1    male  26.0      0      0  30.0000        C\n",
      "890          891       3    male  32.0      0      0   7.7500        Q\n",
      "\n",
      "[891 rows x 8 columns]\n",
      "0      0\n",
      "1      1\n",
      "2      1\n",
      "3      1\n",
      "4      0\n",
      "      ..\n",
      "886    0\n",
      "887    1\n",
      "888    0\n",
      "889    1\n",
      "890    0\n",
      "Name: Survived, Length: 891, dtype: int64\n"
     ]
    }
   ],
   "source": [
    "X_train = train.drop([\"Name\",\"Survived\",\"Cabin\",\"Ticket\"], axis=1)\n",
    "y_train = train[\"Survived\"]\n",
    "\n",
    "X_test = test.drop([\"Name\",\"Cabin\",\"Ticket\"], axis=1)\n",
    "\n",
    "print(X_train)\n",
    "print(y_train)"
   ]
  },
  {
   "cell_type": "code",
   "execution_count": 4,
   "id": "82464640",
   "metadata": {
    "execution": {
     "iopub.execute_input": "2022-02-10T05:27:44.707684Z",
     "iopub.status.busy": "2022-02-10T05:27:44.707034Z",
     "iopub.status.idle": "2022-02-10T05:27:44.964120Z",
     "shell.execute_reply": "2022-02-10T05:27:44.964865Z",
     "shell.execute_reply.started": "2022-02-10T05:27:05.653234Z"
    },
    "papermill": {
     "duration": 0.27825,
     "end_time": "2022-02-10T05:27:44.965096",
     "exception": false,
     "start_time": "2022-02-10T05:27:44.686846",
     "status": "completed"
    },
    "tags": []
   },
   "outputs": [
    {
     "name": "stderr",
     "output_type": "stream",
     "text": [
      "/opt/conda/lib/python3.7/site-packages/ipykernel_launcher.py:4: SettingWithCopyWarning: \n",
      "A value is trying to be set on a copy of a slice from a DataFrame\n",
      "\n",
      "See the caveats in the documentation: https://pandas.pydata.org/pandas-docs/stable/user_guide/indexing.html#returning-a-view-versus-a-copy\n",
      "  after removing the cwd from sys.path.\n",
      "/opt/conda/lib/python3.7/site-packages/ipykernel_launcher.py:6: SettingWithCopyWarning: \n",
      "A value is trying to be set on a copy of a slice from a DataFrame\n",
      "\n",
      "See the caveats in the documentation: https://pandas.pydata.org/pandas-docs/stable/user_guide/indexing.html#returning-a-view-versus-a-copy\n",
      "  \n"
     ]
    },
    {
     "name": "stdout",
     "output_type": "stream",
     "text": [
      "     PassengerId  Pclass Sex   Age  SibSp  Parch     Fare Embarked\n",
      "0              1       3   0  22.0      1      0   7.2500        S\n",
      "1              2       1   1  38.0      1      0  71.2833        C\n",
      "2              3       3   1  26.0      0      0   7.9250        S\n",
      "3              4       1   1  35.0      1      0  53.1000        S\n",
      "4              5       3   0  35.0      0      0   8.0500        S\n",
      "..           ...     ...  ..   ...    ...    ...      ...      ...\n",
      "886          887       2   0  27.0      0      0  13.0000        S\n",
      "887          888       1   1  19.0      0      0  30.0000        S\n",
      "888          889       3   1   NaN      1      2  23.4500        S\n",
      "889          890       1   0  26.0      0      0  30.0000        C\n",
      "890          891       3   0  32.0      0      0   7.7500        Q\n",
      "\n",
      "[891 rows x 8 columns]\n"
     ]
    }
   ],
   "source": [
    "i=0\n",
    "for x in X_train[\"Sex\"]:\n",
    "    if x == \"male\":\n",
    "        X_train[\"Sex\"][i]=0\n",
    "    else:\n",
    "         X_train[\"Sex\"][i]=1\n",
    "    i = i+1\n",
    "print(X_train)"
   ]
  },
  {
   "cell_type": "code",
   "execution_count": 5,
   "id": "7fa17a1f",
   "metadata": {
    "execution": {
     "iopub.execute_input": "2022-02-10T05:27:45.139558Z",
     "iopub.status.busy": "2022-02-10T05:27:45.138705Z",
     "iopub.status.idle": "2022-02-10T05:27:45.144835Z",
     "shell.execute_reply": "2022-02-10T05:27:45.144062Z",
     "shell.execute_reply.started": "2022-02-10T05:27:05.903704Z"
    },
    "papermill": {
     "duration": 0.161211,
     "end_time": "2022-02-10T05:27:45.145051",
     "exception": false,
     "start_time": "2022-02-10T05:27:44.983840",
     "status": "completed"
    },
    "tags": []
   },
   "outputs": [
    {
     "name": "stdout",
     "output_type": "stream",
     "text": [
      "     PassengerId  Pclass Sex   Age  SibSp  Parch      Fare Embarked\n",
      "0            892       3   0  34.5      0      0    7.8292        Q\n",
      "1            893       3   1  47.0      1      0    7.0000        S\n",
      "2            894       2   0  62.0      0      0    9.6875        Q\n",
      "3            895       3   0  27.0      0      0    8.6625        S\n",
      "4            896       3   1  22.0      1      1   12.2875        S\n",
      "..           ...     ...  ..   ...    ...    ...       ...      ...\n",
      "413         1305       3   0   NaN      0      0    8.0500        S\n",
      "414         1306       1   1  39.0      0      0  108.9000        C\n",
      "415         1307       3   0  38.5      0      0    7.2500        S\n",
      "416         1308       3   0   NaN      0      0    8.0500        S\n",
      "417         1309       3   0   NaN      1      1   22.3583        C\n",
      "\n",
      "[418 rows x 8 columns]\n"
     ]
    },
    {
     "name": "stderr",
     "output_type": "stream",
     "text": [
      "/opt/conda/lib/python3.7/site-packages/ipykernel_launcher.py:4: SettingWithCopyWarning: \n",
      "A value is trying to be set on a copy of a slice from a DataFrame\n",
      "\n",
      "See the caveats in the documentation: https://pandas.pydata.org/pandas-docs/stable/user_guide/indexing.html#returning-a-view-versus-a-copy\n",
      "  after removing the cwd from sys.path.\n",
      "/opt/conda/lib/python3.7/site-packages/ipykernel_launcher.py:6: SettingWithCopyWarning: \n",
      "A value is trying to be set on a copy of a slice from a DataFrame\n",
      "\n",
      "See the caveats in the documentation: https://pandas.pydata.org/pandas-docs/stable/user_guide/indexing.html#returning-a-view-versus-a-copy\n",
      "  \n"
     ]
    }
   ],
   "source": [
    "i=0\n",
    "for x in X_test[\"Sex\"]:\n",
    "    if x == \"male\":\n",
    "        X_test[\"Sex\"][i]=0\n",
    "    else:\n",
    "         X_test[\"Sex\"][i]=1\n",
    "    i = i+1\n",
    "print(X_test)\n"
   ]
  },
  {
   "cell_type": "code",
   "execution_count": 6,
   "id": "ccd85dee",
   "metadata": {
    "execution": {
     "iopub.execute_input": "2022-02-10T05:27:45.352115Z",
     "iopub.status.busy": "2022-02-10T05:27:45.315654Z",
     "iopub.status.idle": "2022-02-10T05:27:45.486254Z",
     "shell.execute_reply": "2022-02-10T05:27:45.485662Z",
     "shell.execute_reply.started": "2022-02-10T05:27:06.039832Z"
    },
    "papermill": {
     "duration": 0.321652,
     "end_time": "2022-02-10T05:27:45.486405",
     "exception": false,
     "start_time": "2022-02-10T05:27:45.164753",
     "status": "completed"
    },
    "tags": []
   },
   "outputs": [
    {
     "name": "stderr",
     "output_type": "stream",
     "text": [
      "/opt/conda/lib/python3.7/site-packages/ipykernel_launcher.py:4: SettingWithCopyWarning: \n",
      "A value is trying to be set on a copy of a slice from a DataFrame\n",
      "\n",
      "See the caveats in the documentation: https://pandas.pydata.org/pandas-docs/stable/user_guide/indexing.html#returning-a-view-versus-a-copy\n",
      "  after removing the cwd from sys.path.\n",
      "/opt/conda/lib/python3.7/site-packages/ipykernel_launcher.py:6: SettingWithCopyWarning: \n",
      "A value is trying to be set on a copy of a slice from a DataFrame\n",
      "\n",
      "See the caveats in the documentation: https://pandas.pydata.org/pandas-docs/stable/user_guide/indexing.html#returning-a-view-versus-a-copy\n",
      "  \n",
      "/opt/conda/lib/python3.7/site-packages/ipykernel_launcher.py:8: SettingWithCopyWarning: \n",
      "A value is trying to be set on a copy of a slice from a DataFrame\n",
      "\n",
      "See the caveats in the documentation: https://pandas.pydata.org/pandas-docs/stable/user_guide/indexing.html#returning-a-view-versus-a-copy\n",
      "  \n"
     ]
    },
    {
     "name": "stdout",
     "output_type": "stream",
     "text": [
      "     PassengerId  Pclass Sex   Age  SibSp  Parch     Fare Embarked\n",
      "0              1       3   0  22.0      1      0   7.2500        0\n",
      "1              2       1   1  38.0      1      0  71.2833        1\n",
      "2              3       3   1  26.0      0      0   7.9250        0\n",
      "3              4       1   1  35.0      1      0  53.1000        0\n",
      "4              5       3   0  35.0      0      0   8.0500        0\n",
      "..           ...     ...  ..   ...    ...    ...      ...      ...\n",
      "886          887       2   0  27.0      0      0  13.0000        0\n",
      "887          888       1   1  19.0      0      0  30.0000        0\n",
      "888          889       3   1   NaN      1      2  23.4500        0\n",
      "889          890       1   0  26.0      0      0  30.0000        1\n",
      "890          891       3   0  32.0      0      0   7.7500        2\n",
      "\n",
      "[891 rows x 8 columns]\n"
     ]
    }
   ],
   "source": [
    "i=0\n",
    "for x in X_train[\"Embarked\"]:\n",
    "    if x == \"S\":\n",
    "        X_train[\"Embarked\"][i]=0\n",
    "    elif x == \"C\":\n",
    "        X_train[\"Embarked\"][i]=1\n",
    "    else:\n",
    "         X_train[\"Embarked\"][i]=2\n",
    "    i = i+1\n",
    "print(X_train)"
   ]
  },
  {
   "cell_type": "code",
   "execution_count": 7,
   "id": "c8cd0af2",
   "metadata": {
    "execution": {
     "iopub.execute_input": "2022-02-10T05:27:45.665011Z",
     "iopub.status.busy": "2022-02-10T05:27:45.652329Z",
     "iopub.status.idle": "2022-02-10T05:27:45.669504Z",
     "shell.execute_reply": "2022-02-10T05:27:45.669994Z",
     "shell.execute_reply.started": "2022-02-10T05:27:06.345696Z"
    },
    "papermill": {
     "duration": 0.164233,
     "end_time": "2022-02-10T05:27:45.670204",
     "exception": false,
     "start_time": "2022-02-10T05:27:45.505971",
     "status": "completed"
    },
    "tags": []
   },
   "outputs": [
    {
     "name": "stdout",
     "output_type": "stream",
     "text": [
      "     PassengerId  Pclass Sex   Age  SibSp  Parch      Fare Embarked\n",
      "0            892       3   0  34.5      0      0    7.8292        2\n",
      "1            893       3   1  47.0      1      0    7.0000        0\n",
      "2            894       2   0  62.0      0      0    9.6875        2\n",
      "3            895       3   0  27.0      0      0    8.6625        0\n",
      "4            896       3   1  22.0      1      1   12.2875        0\n",
      "..           ...     ...  ..   ...    ...    ...       ...      ...\n",
      "413         1305       3   0   NaN      0      0    8.0500        0\n",
      "414         1306       1   1  39.0      0      0  108.9000        1\n",
      "415         1307       3   0  38.5      0      0    7.2500        0\n",
      "416         1308       3   0   NaN      0      0    8.0500        0\n",
      "417         1309       3   0   NaN      1      1   22.3583        1\n",
      "\n",
      "[418 rows x 8 columns]\n"
     ]
    },
    {
     "name": "stderr",
     "output_type": "stream",
     "text": [
      "/opt/conda/lib/python3.7/site-packages/ipykernel_launcher.py:8: SettingWithCopyWarning: \n",
      "A value is trying to be set on a copy of a slice from a DataFrame\n",
      "\n",
      "See the caveats in the documentation: https://pandas.pydata.org/pandas-docs/stable/user_guide/indexing.html#returning-a-view-versus-a-copy\n",
      "  \n",
      "/opt/conda/lib/python3.7/site-packages/ipykernel_launcher.py:4: SettingWithCopyWarning: \n",
      "A value is trying to be set on a copy of a slice from a DataFrame\n",
      "\n",
      "See the caveats in the documentation: https://pandas.pydata.org/pandas-docs/stable/user_guide/indexing.html#returning-a-view-versus-a-copy\n",
      "  after removing the cwd from sys.path.\n",
      "/opt/conda/lib/python3.7/site-packages/ipykernel_launcher.py:6: SettingWithCopyWarning: \n",
      "A value is trying to be set on a copy of a slice from a DataFrame\n",
      "\n",
      "See the caveats in the documentation: https://pandas.pydata.org/pandas-docs/stable/user_guide/indexing.html#returning-a-view-versus-a-copy\n",
      "  \n"
     ]
    }
   ],
   "source": [
    "i=0\n",
    "for x in X_test[\"Embarked\"]:\n",
    "    if x == \"S\":\n",
    "        X_test[\"Embarked\"][i]=0\n",
    "    elif x == \"C\":\n",
    "        X_test[\"Embarked\"][i]=1\n",
    "    else:\n",
    "         X_test[\"Embarked\"][i]=2\n",
    "    i = i+1\n",
    "print(X_test)"
   ]
  },
  {
   "cell_type": "code",
   "execution_count": 8,
   "id": "68c7aabd",
   "metadata": {
    "execution": {
     "iopub.execute_input": "2022-02-10T05:27:45.726580Z",
     "iopub.status.busy": "2022-02-10T05:27:45.725705Z",
     "iopub.status.idle": "2022-02-10T05:27:45.730781Z",
     "shell.execute_reply": "2022-02-10T05:27:45.730257Z",
     "shell.execute_reply.started": "2022-02-10T05:27:06.502458Z"
    },
    "papermill": {
     "duration": 0.040507,
     "end_time": "2022-02-10T05:27:45.730915",
     "exception": false,
     "start_time": "2022-02-10T05:27:45.690408",
     "status": "completed"
    },
    "tags": []
   },
   "outputs": [
    {
     "name": "stdout",
     "output_type": "stream",
     "text": [
      "29\n",
      "     PassengerId  Pclass Sex   Age  SibSp  Parch     Fare Embarked\n",
      "0              1       3   0  22.0      1      0   7.2500        0\n",
      "1              2       1   1  38.0      1      0  71.2833        1\n",
      "2              3       3   1  26.0      0      0   7.9250        0\n",
      "3              4       1   1  35.0      1      0  53.1000        0\n",
      "4              5       3   0  35.0      0      0   8.0500        0\n",
      "..           ...     ...  ..   ...    ...    ...      ...      ...\n",
      "886          887       2   0  27.0      0      0  13.0000        0\n",
      "887          888       1   1  19.0      0      0  30.0000        0\n",
      "888          889       3   1  29.0      1      2  23.4500        0\n",
      "889          890       1   0  26.0      0      0  30.0000        1\n",
      "890          891       3   0  32.0      0      0   7.7500        2\n",
      "\n",
      "[891 rows x 8 columns]\n"
     ]
    },
    {
     "name": "stderr",
     "output_type": "stream",
     "text": [
      "/opt/conda/lib/python3.7/site-packages/ipykernel_launcher.py:4: SettingWithCopyWarning: \n",
      "A value is trying to be set on a copy of a slice from a DataFrame\n",
      "\n",
      "See the caveats in the documentation: https://pandas.pydata.org/pandas-docs/stable/user_guide/indexing.html#returning-a-view-versus-a-copy\n",
      "  after removing the cwd from sys.path.\n"
     ]
    }
   ],
   "source": [
    "bool_series = pd.isnull(X_train[\"Age\"])\n",
    "mean_age = int(X_train[\"Age\"].mean())\n",
    "print(mean_age)\n",
    "X_train[\"Age\"][bool_series] = mean_age\n",
    "\n",
    "print(X_train)"
   ]
  },
  {
   "cell_type": "code",
   "execution_count": 9,
   "id": "13d4210e",
   "metadata": {
    "execution": {
     "iopub.execute_input": "2022-02-10T05:27:45.781586Z",
     "iopub.status.busy": "2022-02-10T05:27:45.780716Z",
     "iopub.status.idle": "2022-02-10T05:27:45.784415Z",
     "shell.execute_reply": "2022-02-10T05:27:45.784895Z",
     "shell.execute_reply.started": "2022-02-10T05:27:06.518173Z"
    },
    "papermill": {
     "duration": 0.033518,
     "end_time": "2022-02-10T05:27:45.785074",
     "exception": false,
     "start_time": "2022-02-10T05:27:45.751556",
     "status": "completed"
    },
    "tags": []
   },
   "outputs": [
    {
     "data": {
      "text/plain": [
       "True"
      ]
     },
     "execution_count": 9,
     "metadata": {},
     "output_type": "execute_result"
    }
   ],
   "source": [
    "X_test.isnull().values.any()"
   ]
  },
  {
   "cell_type": "code",
   "execution_count": 10,
   "id": "abc61ca4",
   "metadata": {
    "execution": {
     "iopub.execute_input": "2022-02-10T05:27:45.847472Z",
     "iopub.status.busy": "2022-02-10T05:27:45.846568Z",
     "iopub.status.idle": "2022-02-10T05:27:45.852191Z",
     "shell.execute_reply": "2022-02-10T05:27:45.851415Z",
     "shell.execute_reply.started": "2022-02-10T05:27:06.534216Z"
    },
    "papermill": {
     "duration": 0.046301,
     "end_time": "2022-02-10T05:27:45.852385",
     "exception": false,
     "start_time": "2022-02-10T05:27:45.806084",
     "status": "completed"
    },
    "tags": []
   },
   "outputs": [
    {
     "name": "stdout",
     "output_type": "stream",
     "text": [
      "Mean Age : 27\n",
      "Mean Fare : 35\n",
      "     PassengerId  Pclass Sex   Age  SibSp  Parch      Fare Embarked\n",
      "0            892       3   0  34.5      0      0    7.8292        2\n",
      "1            893       3   1  47.0      1      0    7.0000        0\n",
      "2            894       2   0  62.0      0      0    9.6875        2\n",
      "3            895       3   0  27.0      0      0    8.6625        0\n",
      "4            896       3   1  22.0      1      1   12.2875        0\n",
      "..           ...     ...  ..   ...    ...    ...       ...      ...\n",
      "413         1305       3   0  27.0      0      0    8.0500        0\n",
      "414         1306       1   1  39.0      0      0  108.9000        1\n",
      "415         1307       3   0  38.5      0      0    7.2500        0\n",
      "416         1308       3   0  27.0      0      0    8.0500        0\n",
      "417         1309       3   0  27.0      1      1   22.3583        1\n",
      "\n",
      "[418 rows x 8 columns]\n"
     ]
    },
    {
     "name": "stderr",
     "output_type": "stream",
     "text": [
      "/opt/conda/lib/python3.7/site-packages/ipykernel_launcher.py:10: SettingWithCopyWarning: \n",
      "A value is trying to be set on a copy of a slice from a DataFrame\n",
      "\n",
      "See the caveats in the documentation: https://pandas.pydata.org/pandas-docs/stable/user_guide/indexing.html#returning-a-view-versus-a-copy\n",
      "  # Remove the CWD from sys.path while we load stuff.\n",
      "/opt/conda/lib/python3.7/site-packages/ipykernel_launcher.py:11: SettingWithCopyWarning: \n",
      "A value is trying to be set on a copy of a slice from a DataFrame\n",
      "\n",
      "See the caveats in the documentation: https://pandas.pydata.org/pandas-docs/stable/user_guide/indexing.html#returning-a-view-versus-a-copy\n",
      "  # This is added back by InteractiveShellApp.init_path()\n"
     ]
    }
   ],
   "source": [
    "bool_series_1 = pd.isnull(X_test[\"Age\"])\n",
    "bool_series_2 = pd.isnull(X_test[\"Fare\"])\n",
    "\n",
    "mean_age = int(X_test[\"Age\"].median())\n",
    "print(\"Mean Age :\",mean_age)\n",
    "\n",
    "mean_fare = int(X_test[\"Fare\"].mean())\n",
    "print(\"Mean Fare :\",mean_fare)\n",
    "\n",
    "X_test[\"Age\"][bool_series_1] = mean_age\n",
    "X_test[\"Fare\"][bool_series_2] = mean_fare\n",
    "\n",
    "print(X_test)"
   ]
  },
  {
   "cell_type": "code",
   "execution_count": 11,
   "id": "d993804c",
   "metadata": {
    "execution": {
     "iopub.execute_input": "2022-02-10T05:27:45.905055Z",
     "iopub.status.busy": "2022-02-10T05:27:45.904293Z",
     "iopub.status.idle": "2022-02-10T05:27:45.910034Z",
     "shell.execute_reply": "2022-02-10T05:27:45.909466Z",
     "shell.execute_reply.started": "2022-02-10T05:27:06.556587Z"
    },
    "papermill": {
     "duration": 0.035229,
     "end_time": "2022-02-10T05:27:45.910201",
     "exception": false,
     "start_time": "2022-02-10T05:27:45.874972",
     "status": "completed"
    },
    "tags": []
   },
   "outputs": [],
   "source": [
    "X_train['Relatives'] = X_train['SibSp'] + X_train['Parch']\n",
    "X_test['Relatives'] = X_test['SibSp'] + X_test['Parch']\n",
    "\n",
    "X_train = X_train.drop([\"SibSp\",\"Parch\"], axis=1)\n",
    "X_test = X_test.drop([\"SibSp\",\"Parch\"], axis=1)"
   ]
  },
  {
   "cell_type": "code",
   "execution_count": 12,
   "id": "2ddd4758",
   "metadata": {
    "execution": {
     "iopub.execute_input": "2022-02-10T05:27:45.960887Z",
     "iopub.status.busy": "2022-02-10T05:27:45.960220Z",
     "iopub.status.idle": "2022-02-10T05:27:45.965190Z",
     "shell.execute_reply": "2022-02-10T05:27:45.965684Z",
     "shell.execute_reply.started": "2022-02-10T05:27:06.572589Z"
    },
    "papermill": {
     "duration": 0.033746,
     "end_time": "2022-02-10T05:27:45.965853",
     "exception": false,
     "start_time": "2022-02-10T05:27:45.932107",
     "status": "completed"
    },
    "tags": []
   },
   "outputs": [
    {
     "data": {
      "text/plain": [
       "False"
      ]
     },
     "execution_count": 12,
     "metadata": {},
     "output_type": "execute_result"
    }
   ],
   "source": [
    "X_test.isnull().values.any()"
   ]
  },
  {
   "cell_type": "code",
   "execution_count": 13,
   "id": "7dc9babf",
   "metadata": {
    "execution": {
     "iopub.execute_input": "2022-02-10T05:27:46.022597Z",
     "iopub.status.busy": "2022-02-10T05:27:46.015546Z",
     "iopub.status.idle": "2022-02-10T05:27:46.026350Z",
     "shell.execute_reply": "2022-02-10T05:27:46.026834Z",
     "shell.execute_reply.started": "2022-02-10T05:27:06.585634Z"
    },
    "papermill": {
     "duration": 0.038999,
     "end_time": "2022-02-10T05:27:46.027011",
     "exception": false,
     "start_time": "2022-02-10T05:27:45.988012",
     "status": "completed"
    },
    "tags": []
   },
   "outputs": [
    {
     "name": "stdout",
     "output_type": "stream",
     "text": [
      "     PassengerId  Pclass Sex   Age     Fare Embarked  Relatives\n",
      "0              1       3   0  22.0   7.2500        0          1\n",
      "1              2       1   1  38.0  71.2833        1          1\n",
      "2              3       3   1  26.0   7.9250        0          0\n",
      "3              4       1   1  35.0  53.1000        0          1\n",
      "4              5       3   0  35.0   8.0500        0          0\n",
      "..           ...     ...  ..   ...      ...      ...        ...\n",
      "886          887       2   0  27.0  13.0000        0          0\n",
      "887          888       1   1  19.0  30.0000        0          0\n",
      "888          889       3   1  29.0  23.4500        0          3\n",
      "889          890       1   0  26.0  30.0000        1          0\n",
      "890          891       3   0  32.0   7.7500        2          0\n",
      "\n",
      "[891 rows x 7 columns]\n",
      "0      0\n",
      "1      1\n",
      "2      1\n",
      "3      1\n",
      "4      0\n",
      "      ..\n",
      "886    0\n",
      "887    1\n",
      "888    0\n",
      "889    1\n",
      "890    0\n",
      "Name: Survived, Length: 891, dtype: int64\n"
     ]
    }
   ],
   "source": [
    "print(X_train)\n",
    "print(y_train)"
   ]
  },
  {
   "cell_type": "code",
   "execution_count": 14,
   "id": "e6f53474",
   "metadata": {
    "execution": {
     "iopub.execute_input": "2022-02-10T05:27:46.083615Z",
     "iopub.status.busy": "2022-02-10T05:27:46.082798Z",
     "iopub.status.idle": "2022-02-10T05:27:46.086064Z",
     "shell.execute_reply": "2022-02-10T05:27:46.086595Z",
     "shell.execute_reply.started": "2022-02-10T05:27:06.600183Z"
    },
    "papermill": {
     "duration": 0.036722,
     "end_time": "2022-02-10T05:27:46.086775",
     "exception": false,
     "start_time": "2022-02-10T05:27:46.050053",
     "status": "completed"
    },
    "tags": []
   },
   "outputs": [
    {
     "name": "stdout",
     "output_type": "stream",
     "text": [
      "     PassengerId  Pclass Sex   Age      Fare Embarked  Relatives\n",
      "0            892       3   0  34.5    7.8292        2          0\n",
      "1            893       3   1  47.0    7.0000        0          1\n",
      "2            894       2   0  62.0    9.6875        2          0\n",
      "3            895       3   0  27.0    8.6625        0          0\n",
      "4            896       3   1  22.0   12.2875        0          2\n",
      "..           ...     ...  ..   ...       ...      ...        ...\n",
      "413         1305       3   0  27.0    8.0500        0          0\n",
      "414         1306       1   1  39.0  108.9000        1          0\n",
      "415         1307       3   0  38.5    7.2500        0          0\n",
      "416         1308       3   0  27.0    8.0500        0          0\n",
      "417         1309       3   0  27.0   22.3583        1          2\n",
      "\n",
      "[418 rows x 7 columns]\n"
     ]
    }
   ],
   "source": [
    "print(X_test)"
   ]
  },
  {
   "cell_type": "code",
   "execution_count": 15,
   "id": "a6545f21",
   "metadata": {
    "execution": {
     "iopub.execute_input": "2022-02-10T05:27:46.145874Z",
     "iopub.status.busy": "2022-02-10T05:27:46.136550Z",
     "iopub.status.idle": "2022-02-10T05:27:46.156739Z",
     "shell.execute_reply": "2022-02-10T05:27:46.156092Z",
     "shell.execute_reply.started": "2022-02-10T05:27:06.616103Z"
    },
    "papermill": {
     "duration": 0.047327,
     "end_time": "2022-02-10T05:27:46.156925",
     "exception": false,
     "start_time": "2022-02-10T05:27:46.109598",
     "status": "completed"
    },
    "tags": []
   },
   "outputs": [],
   "source": [
    "X_test1 = X_test.drop([\"PassengerId\"], axis=1)\n",
    "X_train = X_train.drop([\"PassengerId\"], axis=1)\n",
    "scaler = StandardScaler()\n",
    "scaler.fit(X_train)\n",
    "X_train = scaler.transform(X_train)\n",
    "X_test1 = scaler.transform(X_test1)"
   ]
  },
  {
   "cell_type": "code",
   "execution_count": 16,
   "id": "a6179512",
   "metadata": {
    "execution": {
     "iopub.execute_input": "2022-02-10T05:27:46.211324Z",
     "iopub.status.busy": "2022-02-10T05:27:46.210385Z",
     "iopub.status.idle": "2022-02-10T05:27:46.217514Z",
     "shell.execute_reply": "2022-02-10T05:27:46.216945Z",
     "shell.execute_reply.started": "2022-02-10T05:27:06.634157Z"
    },
    "papermill": {
     "duration": 0.036908,
     "end_time": "2022-02-10T05:27:46.217663",
     "exception": false,
     "start_time": "2022-02-10T05:27:46.180755",
     "status": "completed"
    },
    "tags": []
   },
   "outputs": [
    {
     "name": "stdout",
     "output_type": "stream",
     "text": [
      "Accuracy :  0.9764309764309764\n"
     ]
    }
   ],
   "source": [
    "model = DecisionTreeClassifier(max_depth=25)\n",
    "model.fit(X_train,y_train)\n",
    "\n",
    "predict = model.predict(X_train)\n",
    "\n",
    "print(\"Accuracy : \",metrics.accuracy_score(predict,y_train))"
   ]
  },
  {
   "cell_type": "code",
   "execution_count": 17,
   "id": "c241a85c",
   "metadata": {
    "execution": {
     "iopub.execute_input": "2022-02-10T05:27:46.269767Z",
     "iopub.status.busy": "2022-02-10T05:27:46.269108Z",
     "iopub.status.idle": "2022-02-10T05:27:46.346520Z",
     "shell.execute_reply": "2022-02-10T05:27:46.345761Z",
     "shell.execute_reply.started": "2022-02-10T05:27:06.646097Z"
    },
    "papermill": {
     "duration": 0.106052,
     "end_time": "2022-02-10T05:27:46.346838",
     "exception": false,
     "start_time": "2022-02-10T05:27:46.240786",
     "status": "completed"
    },
    "tags": []
   },
   "outputs": [
    {
     "name": "stdout",
     "output_type": "stream",
     "text": [
      "Accuracy :  0.9685746352413019\n"
     ]
    }
   ],
   "source": [
    "model = svm.SVC(C=1000,gamma=1000)\n",
    "model.fit(X_train,y_train)\n",
    "\n",
    "predict = model.predict(X_train)\n",
    "\n",
    "print(\"Accuracy : \",metrics.accuracy_score(predict,y_train))\n"
   ]
  },
  {
   "cell_type": "code",
   "execution_count": 18,
   "id": "0777f7fd",
   "metadata": {
    "execution": {
     "iopub.execute_input": "2022-02-10T05:27:46.402370Z",
     "iopub.status.busy": "2022-02-10T05:27:46.401289Z",
     "iopub.status.idle": "2022-02-10T05:27:46.414852Z",
     "shell.execute_reply": "2022-02-10T05:27:46.414296Z",
     "shell.execute_reply.started": "2022-02-10T05:27:06.725436Z"
    },
    "papermill": {
     "duration": 0.042593,
     "end_time": "2022-02-10T05:27:46.415005",
     "exception": false,
     "start_time": "2022-02-10T05:27:46.372412",
     "status": "completed"
    },
    "tags": []
   },
   "outputs": [
    {
     "name": "stdout",
     "output_type": "stream",
     "text": [
      "Accuracy :  0.8024691358024691\n"
     ]
    }
   ],
   "source": [
    "model = LogisticRegression()\n",
    "model.fit(X_train,y_train)\n",
    "\n",
    "predict = model.predict(X_train)\n",
    "\n",
    "print(\"Accuracy : \",metrics.accuracy_score(predict,y_train))\n"
   ]
  },
  {
   "cell_type": "code",
   "execution_count": 19,
   "id": "e4c8a794",
   "metadata": {
    "execution": {
     "iopub.execute_input": "2022-02-10T05:27:46.465880Z",
     "iopub.status.busy": "2022-02-10T05:27:46.465262Z",
     "iopub.status.idle": "2022-02-10T05:27:46.475748Z",
     "shell.execute_reply": "2022-02-10T05:27:46.476366Z",
     "shell.execute_reply.started": "2022-02-10T05:27:06.740759Z"
    },
    "papermill": {
     "duration": 0.037812,
     "end_time": "2022-02-10T05:27:46.476539",
     "exception": false,
     "start_time": "2022-02-10T05:27:46.438727",
     "status": "completed"
    },
    "tags": []
   },
   "outputs": [
    {
     "name": "stdout",
     "output_type": "stream",
     "text": [
      "Your submission was successfully saved!\n"
     ]
    }
   ],
   "source": [
    "predict = model.predict(X_test1)\n",
    "\n",
    "output = pd.DataFrame({'PassengerId': X_test.PassengerId, 'Survived': predict})\n",
    "output.to_csv('submission.csv', index=False)\n",
    "print(\"Your submission was successfully saved!\")"
   ]
  }
 ],
 "metadata": {
  "kernelspec": {
   "display_name": "Python 3",
   "language": "python",
   "name": "python3"
  },
  "language_info": {
   "codemirror_mode": {
    "name": "ipython",
    "version": 3
   },
   "file_extension": ".py",
   "mimetype": "text/x-python",
   "name": "python",
   "nbconvert_exporter": "python",
   "pygments_lexer": "ipython3",
   "version": "3.7.12"
  },
  "papermill": {
   "default_parameters": {},
   "duration": 14.580328,
   "end_time": "2022-02-10T05:27:47.211891",
   "environment_variables": {},
   "exception": null,
   "input_path": "__notebook__.ipynb",
   "output_path": "__notebook__.ipynb",
   "parameters": {},
   "start_time": "2022-02-10T05:27:32.631563",
   "version": "2.3.3"
  }
 },
 "nbformat": 4,
 "nbformat_minor": 5
}
