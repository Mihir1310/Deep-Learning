{
 "cells": [
  {
   "cell_type": "code",
   "execution_count": 1,
   "id": "4fc78042",
   "metadata": {
    "_cell_guid": "b1076dfc-b9ad-4769-8c92-a6c4dae69d19",
    "_uuid": "8f2839f25d086af736a60e9eeb907d3b93b6e0e5",
    "execution": {
     "iopub.execute_input": "2022-03-11T14:11:19.981000Z",
     "iopub.status.busy": "2022-03-11T14:11:19.979888Z",
     "iopub.status.idle": "2022-03-11T14:11:26.674258Z",
     "shell.execute_reply": "2022-03-11T14:11:26.675229Z",
     "shell.execute_reply.started": "2022-03-11T14:06:59.265163Z"
    },
    "papermill": {
     "duration": 6.728016,
     "end_time": "2022-03-11T14:11:26.675674",
     "exception": false,
     "start_time": "2022-03-11T14:11:19.947658",
     "status": "completed"
    },
    "tags": []
   },
   "outputs": [
    {
     "name": "stdout",
     "output_type": "stream",
     "text": [
      "/kaggle/input/digit-recognizer/sample_submission.csv\n",
      "/kaggle/input/digit-recognizer/train.csv\n",
      "/kaggle/input/digit-recognizer/test.csv\n"
     ]
    }
   ],
   "source": [
    "# This Python 3 environment comes with many helpful analytics libraries installed\n",
    "# It is defined by the kaggle/python Docker image: https://github.com/kaggle/docker-python\n",
    "# For example, here's several helpful packages to load\n",
    "\n",
    "import numpy as np # linear algebra\n",
    "import pandas as pd # data processing, CSV file I/O (e.g. pd.read_csv)\n",
    "import tensorflow as tf\n",
    "from tensorflow.keras.layers import Dense, Conv2D, Activation, Flatten, MaxPooling2D, BatchNormalization, Dropout\n",
    "from tensorflow.keras.preprocessing.image import ImageDataGenerator\n",
    "from keras.utils.np_utils import to_categorical\n",
    "from sklearn.model_selection import train_test_split\n",
    "from keras.callbacks import ReduceLROnPlateau\n",
    "\n",
    "# Input data files are available in the read-only \"../input/\" directory\n",
    "# For example, running this (by clicking run or pressing Shift+Enter) will list all files under the input directory\n",
    "\n",
    "import os\n",
    "for dirname, _, filenames in os.walk('/kaggle/input'):\n",
    "    for filename in filenames:\n",
    "        print(os.path.join(dirname, filename))\n",
    "\n",
    "# You can write up to 20GB to the current directory (/kaggle/working/) that gets preserved as output when you create a version using \"Save & Run All\" \n",
    "# You can also write temporary files to /kaggle/temp/, but they won't be saved outside of the current session"
   ]
  },
  {
   "cell_type": "code",
   "execution_count": 2,
   "id": "2a3d067e",
   "metadata": {
    "execution": {
     "iopub.execute_input": "2022-03-11T14:11:26.718339Z",
     "iopub.status.busy": "2022-03-11T14:11:26.717427Z",
     "iopub.status.idle": "2022-03-11T14:11:33.064115Z",
     "shell.execute_reply": "2022-03-11T14:11:33.063316Z",
     "shell.execute_reply.started": "2022-03-11T14:07:04.916692Z"
    },
    "papermill": {
     "duration": 6.369557,
     "end_time": "2022-03-11T14:11:33.064282",
     "exception": false,
     "start_time": "2022-03-11T14:11:26.694725",
     "status": "completed"
    },
    "tags": []
   },
   "outputs": [],
   "source": [
    "#load train and test data\n",
    "train=pd.read_csv('/kaggle/input/digit-recognizer/train.csv', header='infer')\n",
    "test=pd.read_csv('/kaggle/input/digit-recognizer/test.csv', header='infer')"
   ]
  },
  {
   "cell_type": "code",
   "execution_count": 3,
   "id": "57b46f23",
   "metadata": {
    "execution": {
     "iopub.execute_input": "2022-03-11T14:11:33.110856Z",
     "iopub.status.busy": "2022-03-11T14:11:33.108725Z",
     "iopub.status.idle": "2022-03-11T14:11:33.225411Z",
     "shell.execute_reply": "2022-03-11T14:11:33.224622Z",
     "shell.execute_reply.started": "2022-03-11T14:07:09.599825Z"
    },
    "papermill": {
     "duration": 0.143312,
     "end_time": "2022-03-11T14:11:33.225598",
     "exception": false,
     "start_time": "2022-03-11T14:11:33.082286",
     "status": "completed"
    },
    "tags": []
   },
   "outputs": [],
   "source": [
    "#feature and label are defined\n",
    "X_train=train.drop(columns=['label']).values\n",
    "X_test=test.values \n",
    "\n",
    "y_train=train[\"label\"].values"
   ]
  },
  {
   "cell_type": "code",
   "execution_count": 4,
   "id": "fa182a0f",
   "metadata": {
    "execution": {
     "iopub.execute_input": "2022-03-11T14:11:33.265452Z",
     "iopub.status.busy": "2022-03-11T14:11:33.264320Z",
     "iopub.status.idle": "2022-03-11T14:11:33.509777Z",
     "shell.execute_reply": "2022-03-11T14:11:33.510381Z",
     "shell.execute_reply.started": "2022-03-11T14:07:09.694906Z"
    },
    "papermill": {
     "duration": 0.26787,
     "end_time": "2022-03-11T14:11:33.510599",
     "exception": false,
     "start_time": "2022-03-11T14:11:33.242729",
     "status": "completed"
    },
    "tags": []
   },
   "outputs": [],
   "source": [
    "#convert feature into 0to1 range\n",
    "X_train=(X_train)/255\n",
    "X_test=(X_test)/255\n",
    "\n",
    "#one-encoding perform in labels\n",
    "y_train=to_categorical(y_train)"
   ]
  },
  {
   "cell_type": "code",
   "execution_count": 5,
   "id": "b30a9462",
   "metadata": {
    "execution": {
     "iopub.execute_input": "2022-03-11T14:11:33.552049Z",
     "iopub.status.busy": "2022-03-11T14:11:33.549968Z",
     "iopub.status.idle": "2022-03-11T14:11:33.992756Z",
     "shell.execute_reply": "2022-03-11T14:11:33.992142Z",
     "shell.execute_reply.started": "2022-03-11T14:07:09.872790Z"
    },
    "papermill": {
     "duration": 0.46506,
     "end_time": "2022-03-11T14:11:33.992936",
     "exception": false,
     "start_time": "2022-03-11T14:11:33.527876",
     "status": "completed"
    },
    "tags": []
   },
   "outputs": [],
   "source": [
    "X_train = X_train.reshape(-1,28,28,1)\n",
    "X_test = X_test.reshape(-1,28,28,1)\n",
    "\n",
    "X_train, X_val, y_train, y_val= train_test_split(X_train, y_train, test_size=0.2, random_state=2)"
   ]
  },
  {
   "cell_type": "code",
   "execution_count": 6,
   "id": "1cb26577",
   "metadata": {
    "execution": {
     "iopub.execute_input": "2022-03-11T14:11:34.033467Z",
     "iopub.status.busy": "2022-03-11T14:11:34.032492Z",
     "iopub.status.idle": "2022-03-11T14:11:34.036596Z",
     "shell.execute_reply": "2022-03-11T14:11:34.037185Z",
     "shell.execute_reply.started": "2022-03-11T14:07:10.262284Z"
    },
    "papermill": {
     "duration": 0.02702,
     "end_time": "2022-03-11T14:11:34.037323",
     "exception": false,
     "start_time": "2022-03-11T14:11:34.010303",
     "status": "completed"
    },
    "tags": []
   },
   "outputs": [
    {
     "name": "stdout",
     "output_type": "stream",
     "text": [
      "(33600, 28, 28, 1) (33600, 10)\n",
      "(8400, 28, 28, 1) (8400, 10)\n"
     ]
    }
   ],
   "source": [
    "print(X_train.shape, y_train.shape)\n",
    "print(X_val.shape, y_val.shape)"
   ]
  },
  {
   "cell_type": "code",
   "execution_count": 7,
   "id": "a3997312",
   "metadata": {
    "execution": {
     "iopub.execute_input": "2022-03-11T14:11:34.083225Z",
     "iopub.status.busy": "2022-03-11T14:11:34.073899Z",
     "iopub.status.idle": "2022-03-11T14:11:37.189617Z",
     "shell.execute_reply": "2022-03-11T14:11:37.190115Z",
     "shell.execute_reply.started": "2022-03-11T14:07:10.271309Z"
    },
    "papermill": {
     "duration": 3.136418,
     "end_time": "2022-03-11T14:11:37.190307",
     "exception": false,
     "start_time": "2022-03-11T14:11:34.053889",
     "status": "completed"
    },
    "tags": []
   },
   "outputs": [
    {
     "name": "stderr",
     "output_type": "stream",
     "text": [
      "2022-03-11 14:11:34.162199: I tensorflow/stream_executor/cuda/cuda_gpu_executor.cc:937] successful NUMA node read from SysFS had negative value (-1), but there must be at least one NUMA node, so returning NUMA node zero\n",
      "2022-03-11 14:11:34.326366: I tensorflow/stream_executor/cuda/cuda_gpu_executor.cc:937] successful NUMA node read from SysFS had negative value (-1), but there must be at least one NUMA node, so returning NUMA node zero\n",
      "2022-03-11 14:11:34.327423: I tensorflow/stream_executor/cuda/cuda_gpu_executor.cc:937] successful NUMA node read from SysFS had negative value (-1), but there must be at least one NUMA node, so returning NUMA node zero\n",
      "2022-03-11 14:11:34.329460: I tensorflow/core/platform/cpu_feature_guard.cc:142] This TensorFlow binary is optimized with oneAPI Deep Neural Network Library (oneDNN) to use the following CPU instructions in performance-critical operations:  AVX2 FMA\n",
      "To enable them in other operations, rebuild TensorFlow with the appropriate compiler flags.\n",
      "2022-03-11 14:11:34.330924: I tensorflow/stream_executor/cuda/cuda_gpu_executor.cc:937] successful NUMA node read from SysFS had negative value (-1), but there must be at least one NUMA node, so returning NUMA node zero\n",
      "2022-03-11 14:11:34.331901: I tensorflow/stream_executor/cuda/cuda_gpu_executor.cc:937] successful NUMA node read from SysFS had negative value (-1), but there must be at least one NUMA node, so returning NUMA node zero\n",
      "2022-03-11 14:11:34.332963: I tensorflow/stream_executor/cuda/cuda_gpu_executor.cc:937] successful NUMA node read from SysFS had negative value (-1), but there must be at least one NUMA node, so returning NUMA node zero\n",
      "2022-03-11 14:11:36.611466: I tensorflow/stream_executor/cuda/cuda_gpu_executor.cc:937] successful NUMA node read from SysFS had negative value (-1), but there must be at least one NUMA node, so returning NUMA node zero\n",
      "2022-03-11 14:11:36.612637: I tensorflow/stream_executor/cuda/cuda_gpu_executor.cc:937] successful NUMA node read from SysFS had negative value (-1), but there must be at least one NUMA node, so returning NUMA node zero\n",
      "2022-03-11 14:11:36.613688: I tensorflow/stream_executor/cuda/cuda_gpu_executor.cc:937] successful NUMA node read from SysFS had negative value (-1), but there must be at least one NUMA node, so returning NUMA node zero\n",
      "2022-03-11 14:11:36.614654: I tensorflow/core/common_runtime/gpu/gpu_device.cc:1510] Created device /job:localhost/replica:0/task:0/device:GPU:0 with 15403 MB memory:  -> device: 0, name: Tesla P100-PCIE-16GB, pci bus id: 0000:00:04.0, compute capability: 6.0\n"
     ]
    }
   ],
   "source": [
    "#define a model\n",
    "model=tf.keras.Sequential()\n",
    "\n",
    "#Convolution layer 1\n",
    "model.add(Conv2D(filters=32, kernel_size=(3,3), strides=(1,1), padding='valid', activation=None, use_bias=False,input_shape=(28, 28, 1)))\n",
    "model.add(BatchNormalization())\n",
    "model.add(Activation('relu'))\n",
    "\n",
    "#Convolution layer 2\n",
    "model.add(Conv2D(filters=32, kernel_size=(3,3), strides=(1,1), padding='valid', activation=None, use_bias=False))\n",
    "model.add(BatchNormalization())\n",
    "model.add(Activation('relu'))\n",
    "model.add(MaxPooling2D(pool_size=(2,2)))\n",
    "\n",
    "#Convolution layer 3\n",
    "model.add(Conv2D(filters=64, kernel_size=(3,3), strides=(1,1), padding='valid', activation=None, use_bias=False))\n",
    "model.add(BatchNormalization())\n",
    "model.add(Activation('relu'))\n",
    "\n",
    "#Convolution layer 4\n",
    "model.add(Conv2D(filters=128, kernel_size=(3,3), strides=(1,1), padding='valid', activation=None, use_bias=False))\n",
    "model.add(BatchNormalization())\n",
    "model.add(Activation('relu'))\n",
    "\n",
    "#fully connected layer\n",
    "model.add(Flatten())\n",
    "#dense layer 1\n",
    "model.add(Dense(units=200))\n",
    "model.add(BatchNormalization())\n",
    "model.add(Activation('relu'))\n",
    "#dense layer 2\n",
    "model.add(Dense(units=100))\n",
    "model.add(BatchNormalization())\n",
    "model.add(Activation('relu'))\n",
    "#output layer\n",
    "model.add(Dense(units=10))\n",
    "model.add(BatchNormalization())\n",
    "model.add(Activation('softmax'))"
   ]
  },
  {
   "cell_type": "code",
   "execution_count": 8,
   "id": "ce332bb2",
   "metadata": {
    "execution": {
     "iopub.execute_input": "2022-03-11T14:11:37.236075Z",
     "iopub.status.busy": "2022-03-11T14:11:37.232479Z",
     "iopub.status.idle": "2022-03-11T14:11:37.243383Z",
     "shell.execute_reply": "2022-03-11T14:11:37.243972Z",
     "shell.execute_reply.started": "2022-03-11T14:07:12.591048Z"
    },
    "papermill": {
     "duration": 0.035882,
     "end_time": "2022-03-11T14:11:37.244122",
     "exception": false,
     "start_time": "2022-03-11T14:11:37.208240",
     "status": "completed"
    },
    "tags": []
   },
   "outputs": [],
   "source": [
    "#compile the model\n",
    "model.compile(loss='categorical_crossentropy', optimizer='adam', metrics=['accuracy'])\n"
   ]
  },
  {
   "cell_type": "code",
   "execution_count": 9,
   "id": "ded3da84",
   "metadata": {
    "execution": {
     "iopub.execute_input": "2022-03-11T14:11:37.288393Z",
     "iopub.status.busy": "2022-03-11T14:11:37.287188Z",
     "iopub.status.idle": "2022-03-11T14:11:37.360433Z",
     "shell.execute_reply": "2022-03-11T14:11:37.359887Z",
     "shell.execute_reply.started": "2022-03-11T14:07:12.604581Z"
    },
    "papermill": {
     "duration": 0.098296,
     "end_time": "2022-03-11T14:11:37.360642",
     "exception": false,
     "start_time": "2022-03-11T14:11:37.262346",
     "status": "completed"
    },
    "tags": []
   },
   "outputs": [],
   "source": [
    "tr_generator = ImageDataGenerator(featurewise_center=False,\n",
    "                             samplewise_center=False,\n",
    "                             featurewise_std_normalization=False,\n",
    "                             samplewise_std_normalization=False,\n",
    "                             zca_whitening=False,\n",
    "                             rotation_range=10,\n",
    "                             zoom_range=0.1,\n",
    "                             width_shift_range=0.1,\n",
    "                             height_shift_range=0.1,\n",
    "                             horizontal_flip=False,\n",
    "                             vertical_flip=False)\n",
    "te_generator = ImageDataGenerator()\n",
    "\n",
    "train_generator = tr_generator.flow(X_train, y_train, batch_size=100, shuffle=True)\n",
    "test_generator = te_generator.flow(X_val, y_val, batch_size=100, shuffle=True)\n",
    "\n"
   ]
  },
  {
   "cell_type": "code",
   "execution_count": 10,
   "id": "2a474225",
   "metadata": {
    "execution": {
     "iopub.execute_input": "2022-03-11T14:11:37.403582Z",
     "iopub.status.busy": "2022-03-11T14:11:37.402634Z",
     "iopub.status.idle": "2022-03-11T14:11:37.407774Z",
     "shell.execute_reply": "2022-03-11T14:11:37.406708Z",
     "shell.execute_reply.started": "2022-03-11T14:07:12.669920Z"
    },
    "papermill": {
     "duration": 0.028466,
     "end_time": "2022-03-11T14:11:37.407994",
     "exception": false,
     "start_time": "2022-03-11T14:11:37.379528",
     "status": "completed"
    },
    "tags": []
   },
   "outputs": [
    {
     "name": "stdout",
     "output_type": "stream",
     "text": [
      "(33600, 28, 28, 1)\n",
      "(8400, 28, 28, 1)\n",
      "(33600, 10)\n",
      "(8400, 10)\n"
     ]
    }
   ],
   "source": [
    "print(X_train.shape)\n",
    "print(X_val.shape)\n",
    "print(y_train.shape)\n",
    "print(y_val.shape)"
   ]
  },
  {
   "cell_type": "code",
   "execution_count": 11,
   "id": "67daa386",
   "metadata": {
    "execution": {
     "iopub.execute_input": "2022-03-11T14:11:37.449501Z",
     "iopub.status.busy": "2022-03-11T14:11:37.448802Z",
     "iopub.status.idle": "2022-03-11T14:11:37.453212Z",
     "shell.execute_reply": "2022-03-11T14:11:37.452546Z",
     "shell.execute_reply.started": "2022-03-11T14:07:12.678272Z"
    },
    "papermill": {
     "duration": 0.025925,
     "end_time": "2022-03-11T14:11:37.453368",
     "exception": false,
     "start_time": "2022-03-11T14:11:37.427443",
     "status": "completed"
    },
    "tags": []
   },
   "outputs": [],
   "source": [
    "#reduceLROnPlateau=ReduceLROnPlateau(monitor='val_acc', patience=3, verbose=1, factor=0.5, min_lr=0.00001)"
   ]
  },
  {
   "cell_type": "code",
   "execution_count": 12,
   "id": "de7ddcbe",
   "metadata": {
    "execution": {
     "iopub.execute_input": "2022-03-11T14:11:37.495620Z",
     "iopub.status.busy": "2022-03-11T14:11:37.494963Z",
     "iopub.status.idle": "2022-03-11T14:16:25.189277Z",
     "shell.execute_reply": "2022-03-11T14:16:25.189809Z",
     "shell.execute_reply.started": "2022-03-11T14:07:12.685497Z"
    },
    "papermill": {
     "duration": 287.719033,
     "end_time": "2022-03-11T14:16:25.190048",
     "exception": false,
     "start_time": "2022-03-11T14:11:37.471015",
     "status": "completed"
    },
    "tags": []
   },
   "outputs": [
    {
     "name": "stderr",
     "output_type": "stream",
     "text": [
      "2022-03-11 14:11:37.610512: I tensorflow/compiler/mlir/mlir_graph_optimization_pass.cc:185] None of the MLIR Optimization Passes are enabled (registered 2)\n"
     ]
    },
    {
     "name": "stdout",
     "output_type": "stream",
     "text": [
      "Epoch 1/20\n"
     ]
    },
    {
     "name": "stderr",
     "output_type": "stream",
     "text": [
      "2022-03-11 14:11:39.858681: I tensorflow/stream_executor/cuda/cuda_dnn.cc:369] Loaded cuDNN version 8005\n"
     ]
    },
    {
     "name": "stdout",
     "output_type": "stream",
     "text": [
      "336/336 [==============================] - 22s 41ms/step - loss: 0.4319 - accuracy: 0.9431 - val_loss: 0.8081 - val_accuracy: 0.8273\n",
      "Epoch 2/20\n",
      "336/336 [==============================] - 14s 42ms/step - loss: 0.1955 - accuracy: 0.9810 - val_loss: 0.1583 - val_accuracy: 0.9856\n",
      "Epoch 3/20\n",
      "336/336 [==============================] - 14s 41ms/step - loss: 0.1337 - accuracy: 0.9847 - val_loss: 0.0887 - val_accuracy: 0.9918\n",
      "Epoch 4/20\n",
      "336/336 [==============================] - 14s 41ms/step - loss: 0.1016 - accuracy: 0.9862 - val_loss: 0.0786 - val_accuracy: 0.9889\n",
      "Epoch 5/20\n",
      "336/336 [==============================] - 14s 40ms/step - loss: 0.0789 - accuracy: 0.9882 - val_loss: 0.0742 - val_accuracy: 0.9877\n",
      "Epoch 6/20\n",
      "336/336 [==============================] - 13s 39ms/step - loss: 0.0678 - accuracy: 0.9883 - val_loss: 0.0505 - val_accuracy: 0.9905\n",
      "Epoch 7/20\n",
      "336/336 [==============================] - 15s 44ms/step - loss: 0.0623 - accuracy: 0.9880 - val_loss: 0.1384 - val_accuracy: 0.9648\n",
      "Epoch 8/20\n",
      "336/336 [==============================] - 13s 39ms/step - loss: 0.0520 - accuracy: 0.9901 - val_loss: 0.0412 - val_accuracy: 0.9913\n",
      "Epoch 9/20\n",
      "336/336 [==============================] - 14s 43ms/step - loss: 0.0469 - accuracy: 0.9900 - val_loss: 0.0492 - val_accuracy: 0.9879\n",
      "Epoch 10/20\n",
      "336/336 [==============================] - 13s 40ms/step - loss: 0.0417 - accuracy: 0.9912 - val_loss: 0.0492 - val_accuracy: 0.9889\n",
      "Epoch 11/20\n",
      "336/336 [==============================] - 15s 43ms/step - loss: 0.0391 - accuracy: 0.9912 - val_loss: 0.0459 - val_accuracy: 0.9883\n",
      "Epoch 12/20\n",
      "336/336 [==============================] - 14s 41ms/step - loss: 0.0375 - accuracy: 0.9913 - val_loss: 0.0241 - val_accuracy: 0.9944\n",
      "Epoch 13/20\n",
      "336/336 [==============================] - 14s 42ms/step - loss: 0.0323 - accuracy: 0.9923 - val_loss: 0.0306 - val_accuracy: 0.9925\n",
      "Epoch 14/20\n",
      "336/336 [==============================] - 14s 41ms/step - loss: 0.0305 - accuracy: 0.9924 - val_loss: 0.0390 - val_accuracy: 0.9880\n",
      "Epoch 15/20\n",
      "336/336 [==============================] - 13s 40ms/step - loss: 0.0302 - accuracy: 0.9926 - val_loss: 0.0210 - val_accuracy: 0.9939\n",
      "Epoch 16/20\n",
      "336/336 [==============================] - 15s 45ms/step - loss: 0.0280 - accuracy: 0.9930 - val_loss: 0.0343 - val_accuracy: 0.9907\n",
      "Epoch 17/20\n",
      "336/336 [==============================] - 13s 39ms/step - loss: 0.0302 - accuracy: 0.9923 - val_loss: 0.0318 - val_accuracy: 0.9912\n",
      "Epoch 18/20\n",
      "336/336 [==============================] - 15s 46ms/step - loss: 0.0242 - accuracy: 0.9935 - val_loss: 0.0301 - val_accuracy: 0.9919\n",
      "Epoch 19/20\n",
      "336/336 [==============================] - 13s 40ms/step - loss: 0.0236 - accuracy: 0.9941 - val_loss: 0.0320 - val_accuracy: 0.9902\n",
      "Epoch 20/20\n",
      "336/336 [==============================] - 15s 43ms/step - loss: 0.0250 - accuracy: 0.9936 - val_loss: 0.0205 - val_accuracy: 0.9943\n"
     ]
    },
    {
     "data": {
      "text/plain": [
       "<keras.callbacks.History at 0x7f5df4486a90>"
      ]
     },
     "execution_count": 12,
     "metadata": {},
     "output_type": "execute_result"
    }
   ],
   "source": [
    "model.fit(train_generator, epochs=20,batch_size=100,validation_data=test_generator)"
   ]
  },
  {
   "cell_type": "code",
   "execution_count": 13,
   "id": "6c900ded",
   "metadata": {
    "execution": {
     "iopub.execute_input": "2022-03-11T14:16:28.726008Z",
     "iopub.status.busy": "2022-03-11T14:16:28.724997Z",
     "iopub.status.idle": "2022-03-11T14:16:31.517041Z",
     "shell.execute_reply": "2022-03-11T14:16:31.516278Z",
     "shell.execute_reply.started": "2022-03-11T14:10:53.145201Z"
    },
    "papermill": {
     "duration": 4.801791,
     "end_time": "2022-03-11T14:16:31.517261",
     "exception": false,
     "start_time": "2022-03-11T14:16:26.715470",
     "status": "completed"
    },
    "tags": []
   },
   "outputs": [],
   "source": [
    "#prediction on test images\n",
    "predictions=model.predict(X_test) \n",
    "#choose max probabality class and assign the class \n",
    "predictions=np.argmax(predictions,axis=1) \n",
    "\n",
    "#read the sample_submission csv file \n",
    "sub=pd.read_csv('/kaggle/input/digit-recognizer/sample_submission.csv', header='infer')\n",
    "#assign labale value\n",
    "sub[\"Label\"]=predictions\n",
    "sub.to_csv('submission.csv', index=False)"
   ]
  },
  {
   "cell_type": "code",
   "execution_count": null,
   "id": "31392e00",
   "metadata": {
    "papermill": {
     "duration": 1.550577,
     "end_time": "2022-03-11T14:16:34.600077",
     "exception": false,
     "start_time": "2022-03-11T14:16:33.049500",
     "status": "completed"
    },
    "tags": []
   },
   "outputs": [],
   "source": []
  }
 ],
 "metadata": {
  "kernelspec": {
   "display_name": "Python 3",
   "language": "python",
   "name": "python3"
  },
  "language_info": {
   "codemirror_mode": {
    "name": "ipython",
    "version": 3
   },
   "file_extension": ".py",
   "mimetype": "text/x-python",
   "name": "python",
   "nbconvert_exporter": "python",
   "pygments_lexer": "ipython3",
   "version": "3.7.12"
  },
  "papermill": {
   "default_parameters": {},
   "duration": 330.001226,
   "end_time": "2022-03-11T14:16:40.156325",
   "environment_variables": {},
   "exception": null,
   "input_path": "__notebook__.ipynb",
   "output_path": "__notebook__.ipynb",
   "parameters": {},
   "start_time": "2022-03-11T14:11:10.155099",
   "version": "2.3.3"
  }
 },
 "nbformat": 4,
 "nbformat_minor": 5
}
